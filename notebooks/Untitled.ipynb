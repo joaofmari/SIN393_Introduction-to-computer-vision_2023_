{
 "cells": [
  {
   "cell_type": "markdown",
   "id": "0b717bea-ec8b-43f4-847c-3b9516c07e32",
   "metadata": {},
   "source": [
    "# **SIN-393 - Introduction to Computer Vision (2023-2)**\n",
    "\n",
    "# Lecture 03 - Introduction to NumPy\n",
    "\n",
    "Prof. João Fernando Mari ([*joaofmari.github.io*](https://joaofmari.github.io/))\n",
    "\n",
    "---"
   ]
  },
  {
   "cell_type": "markdown",
   "id": "e9bc27c3-4af7-40dc-b98f-a4d95cb07b95",
   "metadata": {},
   "source": [
    "* Material based on **Scipy Lecture Notes**.\n",
    "     * Available at: http://www.scipy-lectures.org/"
   ]
  },
  {
   "cell_type": "markdown",
   "id": "422088fd-31cc-4dd7-9499-6238e4ee428e",
   "metadata": {},
   "source": [
    "## Importing NumPy\n",
    "---\n",
    "* Import conventions.\n",
    "    * NumPy documentation:\n",
    "        * http://docs.scipy.org/"
   ]
  },
  {
   "cell_type": "code",
   "execution_count": 1,
   "id": "2d206104-7582-4094-97d5-bcb5b12b8e4f",
   "metadata": {},
   "outputs": [],
   "source": [
    "import numpy as np"
   ]
  },
  {
   "cell_type": "markdown",
   "id": "4a494044-6793-46af-ac66-32a12f37f745",
   "metadata": {},
   "source": [
    "## NumPy arrays\n",
    "---\n",
    "* Arranjos NumPy são containers que fornecem operações numéricas rápidas e uso eficiente da memória."
   ]
  },
  {
   "cell_type": "code",
   "execution_count": 2,
   "id": "2c187495-5edf-4eb3-a154-e64ead9eca38",
   "metadata": {},
   "outputs": [
    {
     "data": {
      "text/plain": [
       "array([0, 1, 2, 3])"
      ]
     },
     "execution_count": 2,
     "metadata": {},
     "output_type": "execute_result"
    }
   ],
   "source": [
    "a = np.array([0, 1, 2, 3])\n",
    "a"
   ]
  },
  {
   "cell_type": "markdown",
   "id": "cfb698cf-0dd0-4670-8e1e-adbd7aded273",
   "metadata": {},
   "source": [
    "* Computing the square of a sequence of 1000 integers using Python lists."
   ]
  },
  {
   "cell_type": "code",
   "execution_count": 3,
   "id": "e40f0f8c-4df0-4356-a5dd-289f9b063208",
   "metadata": {},
   "outputs": [
    {
     "name": "stdout",
     "output_type": "stream",
     "text": [
      "618 µs ± 70.9 µs per loop (mean ± std. dev. of 7 runs, 1,000 loops each)\n"
     ]
    }
   ],
   "source": [
    "# Uma lista com 1000 números inteiros\n",
    "L = range(1000)\n",
    "\n",
    "%timeit [i**2 for i in L]"
   ]
  },
  {
   "cell_type": "markdown",
   "id": "bbc0f669-01e4-40b4-a62b-286964ef9cb7",
   "metadata": {},
   "source": [
    "* Computing the square of a sequence of 1000 integers using NumPy arrays."
   ]
  },
  {
   "cell_type": "code",
   "execution_count": 4,
   "id": "d49b0432-5028-4327-859c-3cd9c0b7153e",
   "metadata": {},
   "outputs": [
    {
     "name": "stdout",
     "output_type": "stream",
     "text": [
      "2.73 µs ± 341 ns per loop (mean ± std. dev. of 7 runs, 100,000 loops each)\n"
     ]
    }
   ],
   "source": [
    "# Arranjo NumPy com 1000 números\n",
    "a = np.arange(1000)\n",
    "%timeit a**2"
   ]
  },
  {
   "cell_type": "markdown",
   "id": "b406881e-acb0-4e04-903a-591860d7b0ae",
   "metadata": {},
   "source": [
    "## Creating NumPy arrays\n",
    "---\n",
    "\n",
    "### Creating arrays manually"
   ]
  },
  {
   "cell_type": "markdown",
   "id": "7270fa7f-9ce0-43ec-b164-e61006ed1239",
   "metadata": {},
   "source": [
    "* 1D arrays"
   ]
  },
  {
   "cell_type": "code",
   "execution_count": 5,
   "id": "4a0d7016-c8d7-4746-aa24-bcdb28783f42",
   "metadata": {},
   "outputs": [
    {
     "data": {
      "text/plain": [
       "array([0, 1, 2, 3])"
      ]
     },
     "execution_count": 5,
     "metadata": {},
     "output_type": "execute_result"
    }
   ],
   "source": [
    "a = np.array([0, 1, 2, 3])\n",
    "a"
   ]
  },
  {
   "cell_type": "code",
   "execution_count": 6,
   "id": "dd1cbe9c-55f0-4956-82d3-d5fcc88674af",
   "metadata": {},
   "outputs": [
    {
     "name": "stdout",
     "output_type": "stream",
     "text": [
      "[0 1 2 3]\n",
      "<class 'numpy.ndarray'>\n",
      "4\n",
      "1\n",
      "(4,)\n"
     ]
    }
   ],
   "source": [
    "print(a)\n",
    "print(type(a))\n",
    "print(len(a))      \n",
    "print(a.ndim)\n",
    "print(a.shape)"
   ]
  },
  {
   "cell_type": "markdown",
   "id": "d09abdce-a041-4122-8cbf-f5f2f31a0ab5",
   "metadata": {},
   "source": [
    "* 2D arrays"
   ]
  },
  {
   "cell_type": "code",
   "execution_count": 7,
   "id": "ddf9386f-fdfa-4577-b876-5085dae13f7f",
   "metadata": {},
   "outputs": [
    {
     "data": {
      "text/plain": [
       "array([[0, 1, 2],\n",
       "       [3, 4, 5]])"
      ]
     },
     "execution_count": 7,
     "metadata": {},
     "output_type": "execute_result"
    }
   ],
   "source": [
    "b = np.array([[0, 1, 2], \n",
    "              [3, 4, 5]])\n",
    "b"
   ]
  },
  {
   "cell_type": "code",
   "execution_count": 8,
   "id": "526a4b2a-111d-483a-8e59-a48ab3656dc5",
   "metadata": {},
   "outputs": [
    {
     "name": "stdout",
     "output_type": "stream",
     "text": [
      "[[0 1 2]\n",
      " [3 4 5]]\n",
      "<class 'numpy.ndarray'>\n",
      "2\n",
      "2\n",
      "(2, 3)\n"
     ]
    }
   ],
   "source": [
    "print(b)\n",
    "print(type(b))\n",
    "print(len(b))      \n",
    "print(b.ndim)\n",
    "print(b.shape)"
   ]
  },
  {
   "cell_type": "markdown",
   "id": "2244880b-498c-43ed-83d8-dc7aaa29dd6f",
   "metadata": {},
   "source": [
    "* 3D arrays"
   ]
  },
  {
   "cell_type": "code",
   "execution_count": 9,
   "id": "b536afff-9318-4ff0-aab5-2831f99d79f6",
   "metadata": {},
   "outputs": [
    {
     "data": {
      "text/plain": [
       "array([[[ 1,  2,  3,  1],\n",
       "        [ 4,  5,  6,  5],\n",
       "        [ 7,  8,  9,  9]],\n",
       "\n",
       "       [[10, 11, 12, 10],\n",
       "        [13, 14, 15, 14],\n",
       "        [16, 17, 18, 18]]])"
      ]
     },
     "execution_count": 9,
     "metadata": {},
     "output_type": "execute_result"
    }
   ],
   "source": [
    "c = np.array([[[1,  2,  3,  1],\n",
    "               [4,  5,  6,  5],\n",
    "               [7,  8,  9,  9]],\n",
    "              [[10, 11, 12, 10],\n",
    "               [13, 14, 15, 14],\n",
    "               [16, 17, 18, 18]]])\n",
    "c"
   ]
  },
  {
   "cell_type": "code",
   "execution_count": 10,
   "id": "06e82f32-10f3-431f-b183-b8a40c188b2a",
   "metadata": {},
   "outputs": [
    {
     "name": "stdout",
     "output_type": "stream",
     "text": [
      "[[[ 1  2  3  1]\n",
      "  [ 4  5  6  5]\n",
      "  [ 7  8  9  9]]\n",
      "\n",
      " [[10 11 12 10]\n",
      "  [13 14 15 14]\n",
      "  [16 17 18 18]]]\n",
      "<class 'numpy.ndarray'>\n",
      "2\n",
      "3\n",
      "(2, 3, 4)\n"
     ]
    }
   ],
   "source": [
    "print(c)\n",
    "print(type(c))\n",
    "print(len(c))      \n",
    "print(c.ndim)\n",
    "print(c.shape)"
   ]
  },
  {
   "cell_type": "markdown",
   "id": "3ed40b0b-cf5c-4465-9a4f-ae3ca3249d09",
   "metadata": {},
   "source": [
    "### Functions for creating arrays\n",
    "\n",
    "* In practice, arrays are rarely created manually."
   ]
  },
  {
   "cell_type": "markdown",
   "id": "81aad77f-093f-42f6-8ed4-506d65f2b74c",
   "metadata": {},
   "source": [
    "* Equaly spaced arrays"
   ]
  },
  {
   "cell_type": "code",
   "execution_count": 11,
   "id": "af85e6c4-4bc7-4c5a-bb07-baa0327054a1",
   "metadata": {},
   "outputs": [
    {
     "data": {
      "text/plain": [
       "array([0, 1, 2, 3, 4, 5, 6, 7, 8, 9])"
      ]
     },
     "execution_count": 11,
     "metadata": {},
     "output_type": "execute_result"
    }
   ],
   "source": [
    "a = np.arange(10) # 0 .. n-1\n",
    "a"
   ]
  },
  {
   "cell_type": "code",
   "execution_count": 12,
   "id": "89595562-0796-4ca7-b742-8a55394ed9a3",
   "metadata": {},
   "outputs": [
    {
     "data": {
      "text/plain": [
       "array([1, 3, 5, 7])"
      ]
     },
     "execution_count": 12,
     "metadata": {},
     "output_type": "execute_result"
    }
   ],
   "source": [
    "b = np.arange(1, 9, 2)\n",
    "b"
   ]
  },
  {
   "cell_type": "markdown",
   "id": "aed8135c-5b00-4bbc-892c-147757566ebd",
   "metadata": {},
   "source": [
    "* By number of points.\n",
    "     * Syntax: ```np.linspace(ini_val, end_val, num_points)```\n",
    "         - ```ini_val```: initial value;\n",
    "         - ```end_val```: final value;\n",
    "         - ```num_points```: number of points."
   ]
  },
  {
   "cell_type": "code",
   "execution_count": 13,
   "id": "4e0bf11d-4849-4af8-8246-9026e6818d4e",
   "metadata": {},
   "outputs": [
    {
     "data": {
      "text/plain": [
       "array([0. , 0.2, 0.4, 0.6, 0.8, 1. ])"
      ]
     },
     "execution_count": 13,
     "metadata": {},
     "output_type": "execute_result"
    }
   ],
   "source": [
    "c = np.linspace(0, 1, 6)\n",
    "c"
   ]
  },
  {
   "cell_type": "code",
   "execution_count": 14,
   "id": "85db5056-4b63-4bec-92f5-d3e3eb12aeb1",
   "metadata": {},
   "outputs": [
    {
     "data": {
      "text/plain": [
       "array([0. , 0.2, 0.4, 0.6, 0.8])"
      ]
     },
     "execution_count": 14,
     "metadata": {},
     "output_type": "execute_result"
    }
   ],
   "source": [
    "d = np.linspace(0, 1, 5, endpoint=False)\n",
    "d"
   ]
  },
  {
   "cell_type": "markdown",
   "id": "c9ba85c1-b132-483e-a4b7-55805cfeda29",
   "metadata": {},
   "source": [
    "### Common arrays"
   ]
  },
  {
   "cell_type": "code",
   "execution_count": 15,
   "id": "78f14d9a-0489-4be5-8278-72596aedf4c5",
   "metadata": {},
   "outputs": [
    {
     "data": {
      "text/plain": [
       "array([[1., 1., 1.],\n",
       "       [1., 1., 1.],\n",
       "       [1., 1., 1.]])"
      ]
     },
     "execution_count": 15,
     "metadata": {},
     "output_type": "execute_result"
    }
   ],
   "source": [
    "a = np.ones((3,3)) # (3, 3) é uma tupla\n",
    "a"
   ]
  },
  {
   "cell_type": "code",
   "execution_count": 16,
   "id": "9b41a63b-a3c5-4293-9d3c-34d88faaa902",
   "metadata": {},
   "outputs": [
    {
     "data": {
      "text/plain": [
       "array([[0., 0.],\n",
       "       [0., 0.]])"
      ]
     },
     "execution_count": 16,
     "metadata": {},
     "output_type": "execute_result"
    }
   ],
   "source": [
    "b = np.zeros((2,2))\n",
    "b"
   ]
  },
  {
   "cell_type": "code",
   "execution_count": 17,
   "id": "c4feec7f-6407-402c-b7d3-f519dbd4f1d3",
   "metadata": {},
   "outputs": [
    {
     "data": {
      "text/plain": [
       "array([[1., 0., 0.],\n",
       "       [0., 1., 0.],\n",
       "       [0., 0., 1.]])"
      ]
     },
     "execution_count": 17,
     "metadata": {},
     "output_type": "execute_result"
    }
   ],
   "source": [
    "c = np.eye(3)\n",
    "c"
   ]
  },
  {
   "cell_type": "code",
   "execution_count": 18,
   "id": "1b09692c-f7ac-4894-92a7-a1551ec0de07",
   "metadata": {},
   "outputs": [
    {
     "data": {
      "text/plain": [
       "array([[1, 0, 0, 0],\n",
       "       [0, 2, 0, 0],\n",
       "       [0, 0, 3, 0],\n",
       "       [0, 0, 0, 4]])"
      ]
     },
     "execution_count": 18,
     "metadata": {},
     "output_type": "execute_result"
    }
   ],
   "source": [
    "d = np.diag(np.array([1, 2, 3, 4]))\n",
    "d"
   ]
  },
  {
   "cell_type": "markdown",
   "id": "d6a4f12c-cf4f-4014-9206-0e8627ca67ed",
   "metadata": {},
   "source": [
    "* Random numbers"
   ]
  },
  {
   "cell_type": "code",
   "execution_count": 19,
   "id": "a5160650-c084-4872-b8b1-31ce81e199c5",
   "metadata": {},
   "outputs": [
    {
     "data": {
      "text/plain": [
       "array([0.23643818, 0.47396574, 0.05731461, 0.64117828])"
      ]
     },
     "execution_count": 19,
     "metadata": {},
     "output_type": "execute_result"
    }
   ],
   "source": [
    "a = np.random.rand(4) # distribuição uniforme\n",
    "a"
   ]
  },
  {
   "cell_type": "code",
   "execution_count": 20,
   "id": "48878f04-a6dd-4455-9f00-31fbfbd576a8",
   "metadata": {},
   "outputs": [
    {
     "data": {
      "text/plain": [
       "array([-0.43146091, -0.24183331,  0.33740546,  0.20333382])"
      ]
     },
     "execution_count": 20,
     "metadata": {},
     "output_type": "execute_result"
    }
   ],
   "source": [
    "b = np.random.randn(4) # distribuição gaussiana\n",
    "b"
   ]
  },
  {
   "cell_type": "code",
   "execution_count": 21,
   "id": "b039b70b-616a-4748-9c78-a4a6170d392b",
   "metadata": {},
   "outputs": [],
   "source": [
    "np.random.seed(1234) # define a semente para geração dos números aleatórios"
   ]
  },
  {
   "cell_type": "markdown",
   "id": "eff80343-dbd2-4709-ab6b-fbfa2cab993f",
   "metadata": {},
   "source": [
    "## Array data types\n",
    "---\n",
    "\n",
    "* The default data type of numpy is float64"
   ]
  },
  {
   "cell_type": "code",
   "execution_count": 22,
   "id": "9879ca92-c51f-411c-9cf4-acb9bb653def",
   "metadata": {},
   "outputs": [
    {
     "data": {
      "text/plain": [
       "dtype('float64')"
      ]
     },
     "execution_count": 22,
     "metadata": {},
     "output_type": "execute_result"
    }
   ],
   "source": [
    "c = np.ones((3, 3))\n",
    "c.dtype"
   ]
  },
  {
   "cell_type": "markdown",
   "id": "cadca218-8a33-4887-8d11-5d3288156306",
   "metadata": {},
   "source": [
    "* When the array is created from directly, the type is inferred from the data."
   ]
  },
  {
   "cell_type": "code",
   "execution_count": 23,
   "id": "ffccd412-b6bb-4b07-8a9d-0e30264ab3a0",
   "metadata": {},
   "outputs": [
    {
     "data": {
      "text/plain": [
       "dtype('int32')"
      ]
     },
     "execution_count": 23,
     "metadata": {},
     "output_type": "execute_result"
    }
   ],
   "source": [
    "c = np.array([1, 2, 3]) # inteiros (32 bits)\n",
    "c.dtype"
   ]
  },
  {
   "cell_type": "code",
   "execution_count": 24,
   "id": "f6f174c1-f0e3-4600-872c-63638e7e243a",
   "metadata": {},
   "outputs": [
    {
     "data": {
      "text/plain": [
       "dtype('float64')"
      ]
     },
     "execution_count": 24,
     "metadata": {},
     "output_type": "execute_result"
    }
   ],
   "source": [
    "c = np.array([1., 2, 3]) # float (64 bits)\n",
    "c.dtype"
   ]
  },
  {
   "cell_type": "markdown",
   "id": "6b834ad3-f7dc-471e-a7a2-e6386c09e1c4",
   "metadata": {},
   "source": [
    "* Other data types allowed:"
   ]
  },
  {
   "cell_type": "code",
   "execution_count": 25,
   "id": "b4f30fb5-37ec-4800-9f2d-5b29483a42be",
   "metadata": {},
   "outputs": [
    {
     "data": {
      "text/plain": [
       "dtype('complex128')"
      ]
     },
     "execution_count": 25,
     "metadata": {},
     "output_type": "execute_result"
    }
   ],
   "source": [
    "d = np.array([1+2j, 3+4j, 5+6j])\n",
    "d.dtype"
   ]
  },
  {
   "cell_type": "code",
   "execution_count": 26,
   "id": "2ab8b38e-f6dc-4efd-adc4-40f3bd1bc8aa",
   "metadata": {},
   "outputs": [
    {
     "data": {
      "text/plain": [
       "dtype('<U12')"
      ]
     },
     "execution_count": 26,
     "metadata": {},
     "output_type": "execute_result"
    }
   ],
   "source": [
    "f = np.array(['Um', 'Dois', 'Quatrocentos'])\n",
    "f.dtype"
   ]
  },
  {
   "cell_type": "markdown",
   "id": "24966b96-992f-48f5-bbad-dcd04fa25b55",
   "metadata": {},
   "source": [
    "* Other data types allowed:\n",
    "    * int16\n",
    "    * int32\n",
    "    * int64\n",
    "    * uint32\n",
    "    * float32\n",
    "    * ..."
   ]
  },
  {
   "cell_type": "code",
   "execution_count": null,
   "id": "ff2423f4-2b47-4b99-abd4-7af8a7cbd6b1",
   "metadata": {},
   "outputs": [],
   "source": []
  },
  {
   "cell_type": "code",
   "execution_count": null,
   "id": "9015ee66-b027-46e5-b6ad-b75e59920878",
   "metadata": {},
   "outputs": [],
   "source": []
  }
 ],
 "metadata": {
  "kernelspec": {
   "display_name": "Python 3 (ipykernel)",
   "language": "python",
   "name": "python3"
  },
  "language_info": {
   "codemirror_mode": {
    "name": "ipython",
    "version": 3
   },
   "file_extension": ".py",
   "mimetype": "text/x-python",
   "name": "python",
   "nbconvert_exporter": "python",
   "pygments_lexer": "ipython3",
   "version": "3.9.17"
  }
 },
 "nbformat": 4,
 "nbformat_minor": 5
}
